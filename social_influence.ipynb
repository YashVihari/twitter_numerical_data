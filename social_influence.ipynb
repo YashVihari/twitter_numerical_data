{
  "nbformat": 4,
  "nbformat_minor": 0,
  "metadata": {
    "colab": {
      "name": "social_influence.ipynb",
      "version": "0.3.2",
      "provenance": [],
      "collapsed_sections": [],
      "include_colab_link": true
    },
    "kernelspec": {
      "name": "python3",
      "display_name": "Python 3"
    },
    "accelerator": "GPU"
  },
  "cells": [
    {
      "cell_type": "markdown",
      "metadata": {
        "id": "view-in-github",
        "colab_type": "text"
      },
      "source": [
        "<a href=\"https://colab.research.google.com/github/YashVihari/twitter_numerical_data/blob/model/social_influence.ipynb\" target=\"_parent\"><img src=\"https://colab.research.google.com/assets/colab-badge.svg\" alt=\"Open In Colab\"/></a>"
      ]
    },
    {
      "metadata": {
        "id": "imEool3Asrja",
        "colab_type": "code",
        "colab": {}
      },
      "cell_type": "code",
      "source": [
        "!add-apt-repository -y ppa:alessandro-strada/ppa 2>&1 > /dev/null\n",
        "!apt-get update -qq 2>&1 > /dev/null\n",
        "!apt-get -y install -qq google-drive-ocamlfuse fuse\n",
        "# !wget https://launchpad.net/~alessandro-strada/+archive/ubuntu/google-drive-ocamlfuse-beta/+build/15331130/+files/google-drive-ocamlfuse_0.7.0-0ubuntu1_amd64.deb\n",
        "# !dpkg -i google-drive-ocamlfuse_0.7.0-0ubuntu1_amd64.deb\n",
        "# !apt-get install -f\n",
        "# !apt-get -y install -qq fuse\n",
        "from google.colab import auth\n",
        "auth.authenticate_user()\n",
        "from oauth2client.client import GoogleCredentials\n",
        "creds = GoogleCredentials.get_application_default()\n",
        "import getpass\n",
        "!google-drive-ocamlfuse -headless -id={creds.client_id} -secret={creds.client_secret} < /dev/null 2>&1 | grep URL\n",
        "vcode = getpass.getpass()\n",
        "!echo {vcode} | google-drive-ocamlfuse -headless -id={creds.client_id} -secret={creds.client_secret}"
      ],
      "execution_count": 0,
      "outputs": []
    },
    {
      "metadata": {
        "id": "qBdgSRNAsxlZ",
        "colab_type": "code",
        "colab": {}
      },
      "cell_type": "code",
      "source": [
        "# Create a directory and mount Google Drive onto the colab workspace using that directory.\n",
        "\n",
        "!mkdir -p drive\n",
        "\n",
        "!google-drive-ocamlfuse drive\n",
        "!pip install tables\n",
        "!apt-get install -y -qq software-properties-common python-software-properties module-init-tools\n"
      ],
      "execution_count": 0,
      "outputs": []
    },
    {
      "metadata": {
        "id": "orANzUBTtOsM",
        "colab_type": "code",
        "outputId": "0b8ac1a5-9b29-4471-99b0-36d5cb1f95c4",
        "colab": {
          "base_uri": "https://localhost:8080/",
          "height": 51
        }
      },
      "cell_type": "code",
      "source": [
        "!ls ./drive/Colab\\ Notebooks/social/"
      ],
      "execution_count": 0,
      "outputs": [
        {
          "output_type": "stream",
          "text": [
            "'Data Science'\t\t  Test_Data_X.csv    Train_Data_y.csv\n",
            "'Problem Statement.pdf'   Train_Data_X.csv\n"
          ],
          "name": "stdout"
        }
      ]
    },
    {
      "metadata": {
        "id": "Zwh0pJ41yD2d",
        "colab_type": "text"
      },
      "cell_type": "markdown",
      "source": [
        "Using **Google Colaboratory** so the above cells are for mounting **Google Drive** and obtaining the data set paths"
      ]
    },
    {
      "metadata": {
        "id": "w-qoRoqNtciR",
        "colab_type": "code",
        "colab": {}
      },
      "cell_type": "code",
      "source": [
        "import pandas as pd\n",
        "import numpy as np\n",
        "\n",
        "train = pd.read_csv('./drive/Colab Notebooks/social/Train_Data_X.csv',index_col=[0])     # Reading the datasets \n",
        "labels = pd.read_csv('./drive/Colab Notebooks/social/Train_Data_y.csv',index_col=[0])    \n",
        "test = pd.read_csv('./drive/Colab Notebooks/social/Test_Data_X.csv',index_col=[0])       \n",
        "\n",
        "# print(train.head(3))\n",
        "# print(labels.head(2))\n",
        "# test_data.head()"
      ],
      "execution_count": 0,
      "outputs": []
    },
    {
      "metadata": {
        "id": "WyHGR0VvzFbN",
        "colab_type": "code",
        "outputId": "bfc44517-d1c2-4873-c010-77a695b03256",
        "colab": {
          "base_uri": "https://localhost:8080/",
          "height": 34
        }
      },
      "cell_type": "code",
      "source": [
        "print(train.shape)    # Training dataset has 2711 points with 22 features(columns)"
      ],
      "execution_count": 0,
      "outputs": [
        {
          "output_type": "stream",
          "text": [
            "(2711, 22)\n"
          ],
          "name": "stdout"
        }
      ]
    },
    {
      "metadata": {
        "id": "L2nLnDfdmcmR",
        "colab_type": "code",
        "outputId": "33ecfadf-910a-42f8-93ad-601bfab1e9ac",
        "colab": {
          "base_uri": "https://localhost:8080/",
          "height": 34
        }
      },
      "cell_type": "code",
      "source": [
        "print(train.isnull().values.any())     #There are no Missing values in dataset"
      ],
      "execution_count": 0,
      "outputs": [
        {
          "output_type": "stream",
          "text": [
            "False\n"
          ],
          "name": "stdout"
        }
      ]
    },
    {
      "metadata": {
        "id": "j4mPVvqP5PFs",
        "colab_type": "code",
        "outputId": "802f6165-d66e-41b1-97c1-495439622ad7",
        "colab": {
          "base_uri": "https://localhost:8080/",
          "height": 153
        }
      },
      "cell_type": "code",
      "source": [
        "train.columns        "
      ],
      "execution_count": 0,
      "outputs": [
        {
          "output_type": "execute_result",
          "data": {
            "text/plain": [
              "Index(['X_follower_count', 'X_following_count', 'X_listed_count',\n",
              "       'X_mentions_received', 'X_retweets_received', 'X_mentions_sent',\n",
              "       'X_retweets_sent', 'X_posts', 'X_network_feature_1',\n",
              "       'X_network_feature_2', 'X_network_feature_3', 'Y_follower_count',\n",
              "       'Y_following_count', 'Y_listed_count', 'Y_mentions_received',\n",
              "       'Y_retweets_received', 'Y_mentions_sent', 'Y_retweets_sent', 'Y_posts',\n",
              "       'Y_network_feature_1', 'Y_network_feature_2', 'Y_network_feature_3'],\n",
              "      dtype='object')"
            ]
          },
          "metadata": {
            "tags": []
          },
          "execution_count": 52
        }
      ]
    },
    {
      "metadata": {
        "id": "U8-P5gN7tWQy",
        "colab_type": "code",
        "outputId": "8650ce1b-97f2-44f3-a74c-86627df9649a",
        "colab": {
          "base_uri": "https://localhost:8080/",
          "height": 136
        }
      },
      "cell_type": "code",
      "source": [
        "print(labels.shape)\n",
        "print(labels.head())"
      ],
      "execution_count": 0,
      "outputs": [
        {
          "output_type": "stream",
          "text": [
            "(2711, 1)\n",
            "   X_social_than_Y?\n",
            "0                 0\n",
            "1                 0\n",
            "2                 1\n",
            "3                 1\n",
            "4                 1\n"
          ],
          "name": "stdout"
        }
      ]
    },
    {
      "metadata": {
        "id": "_BZkIfuZUO0y",
        "colab_type": "code",
        "outputId": "627450af-efa3-43f3-9b50-e3684582251e",
        "colab": {
          "base_uri": "https://localhost:8080/",
          "height": 34
        }
      },
      "cell_type": "code",
      "source": [
        "labels = np.squeeze(labels)       # squeeze is used to remove the first column that is  not necessary\n",
        "print(labels.shape)"
      ],
      "execution_count": 0,
      "outputs": [
        {
          "output_type": "stream",
          "text": [
            "(2711,)\n"
          ],
          "name": "stdout"
        }
      ]
    },
    {
      "metadata": {
        "id": "2WT-Wt4qZEXd",
        "colab_type": "code",
        "colab": {}
      },
      "cell_type": "code",
      "source": [
        "from sklearn.model_selection import train_test_split\n",
        "from sklearn.preprocessing import StandardScaler\n",
        "\n",
        "# Standardizing the data\n",
        "std = StandardScaler()             \n",
        "\n",
        "xtr = std.fit_transform(train)       #training set\n",
        "# xvd = std.transform(xvd)           #validation set\n",
        "ytr = labels\n"
      ],
      "execution_count": 0,
      "outputs": []
    },
    {
      "metadata": {
        "id": "iULCQONIdX-G",
        "colab_type": "code",
        "colab": {}
      },
      "cell_type": "code",
      "source": [
        "import warnings\n",
        "\n",
        "# dir(warnings) \n",
        "warnings.filterwarnings(\"ignore\")   # To suppresss the Warnings"
      ],
      "execution_count": 0,
      "outputs": []
    },
    {
      "metadata": {
        "id": "SJjSfX-W4K0n",
        "colab_type": "code",
        "outputId": "3acfc5b7-fea4-4a99-8f2f-93fcf73132b5",
        "colab": {
          "base_uri": "https://localhost:8080/",
          "height": 136
        }
      },
      "cell_type": "code",
      "source": [
        "from sklearn.model_selection import GridSearchCV\n",
        "from sklearn import metrics\n",
        "\n",
        "from sklearn.linear_model import LogisticRegression \n",
        "from sklearn.naive_bayes import BernoulliNB\n",
        "from sklearn.ensemble import RandomForestClassifier\n",
        "import xgboost as xgb\n",
        "from sklearn.pipeline import Pipeline\n",
        "\n",
        "# These classifiers are the first-go for building a model so chose them  \n",
        "bnb = BernoulliNB() \n",
        "lr = LogisticRegression() \n",
        "rfc = RandomForestClassifier()\n",
        "xgboost = xgb.XGBClassifier()\n",
        "\n",
        "\n",
        "# Here parameter tuning of multiple classifiers is done under single execution with GridSearch using Pipeline\n",
        "# Paramtere tuning gives the best model with best parameters \n",
        "\n",
        "pipe = Pipeline([('clf',RandomForestClassifier())])           # Placehold Estimator to create Pipeline\n",
        "\n",
        "search_space = [{'clf' : [BernoulliNB()],                     #Actual Estimators with Hyper-parameters for tuning \n",
        "                'clf__alpha':[1e-4,1e-3,1e-2,1e-1,1,10,100] }, \n",
        "               \n",
        "                {'clf' : [LogisticRegression()],\n",
        "                'clf__C' :[100,50,10,5,1,0.5,0.1,0.05,0.01,0.005,0.001], \n",
        "                'clf__penalty': ['l1','l2']},\n",
        "               \n",
        "                {'clf' : [RandomForestClassifier()],\n",
        "                 'clf__n_estimators' : [50,60,70,80,90,100],     \n",
        "                 'clf__max_depth' : [2,3,4,5,6,7,8,9,10]},           \n",
        "                \n",
        "                {'clf' : [xgb.XGBClassifier()],\n",
        "                 'clf__n_estimators' : [50,60,70,80,90,100],          \n",
        "                 'clf__max_depth': [2,3,4,5,6,7,8,9,10],          \n",
        "                 'clf__learning_rate' : [0.1,0.2,0.3,0.4,0.5]}     \n",
        "                    \n",
        "                ]\n",
        "\n",
        "\n",
        "# 10-Fold Cross-validation of data is also done in GridSearch\n",
        "grid = GridSearchCV(pipe, search_space, cv = 10, scoring='roc_auc', n_jobs=4)\n",
        "\n",
        "model = grid.fit(xtr,ytr)\n",
        "# best estimator model is with best fit data is obtained\n",
        "best_estimator = model.best_estimator_         \n",
        "\n",
        "print(\"Best Hyperparams : \", model.best_params_)\n",
        "print(\"Best Accuracy : \", model.best_score_*100)\n",
        "\n"
      ],
      "execution_count": 0,
      "outputs": [
        {
          "output_type": "stream",
          "text": [
            "Best Hyperparams :  {'clf': XGBClassifier(base_score=0.5, booster='gbtree', colsample_bylevel=1,\n",
            "       colsample_bytree=1, gamma=0, learning_rate=0.1, max_delta_step=0,\n",
            "       max_depth=3, min_child_weight=1, missing=None, n_estimators=100,\n",
            "       n_jobs=1, nthread=None, objective='binary:logistic', random_state=0,\n",
            "       reg_alpha=0, reg_lambda=1, scale_pos_weight=1, seed=None,\n",
            "       silent=True, subsample=1), 'clf__learning_rate': 0.1, 'clf__max_depth': 3, 'clf__n_estimators': 100}\n",
            "Best Accuracy :  86.48006585412864\n"
          ],
          "name": "stdout"
        }
      ]
    },
    {
      "metadata": {
        "id": "r-tkVS3G5ePy",
        "colab_type": "code",
        "colab": {}
      },
      "cell_type": "code",
      "source": [
        "# Best estimator is XGBoostClassifier with best parameters is obtained\n",
        "\n",
        "# calculating training probabilities for plotting ROC curve\n",
        "\n",
        "train_proba = best_estimator.predict_proba(xtr)       \n"
      ],
      "execution_count": 0,
      "outputs": []
    },
    {
      "metadata": {
        "id": "AbnjYmD0-A6O",
        "colab_type": "code",
        "outputId": "13db096f-2394-4674-b0f4-068b2075801e",
        "colab": {
          "base_uri": "https://localhost:8080/",
          "height": 187
        }
      },
      "cell_type": "code",
      "source": [
        "print(train_proba[:10])    "
      ],
      "execution_count": 0,
      "outputs": [
        {
          "output_type": "stream",
          "text": [
            "[[0.33624065 0.66375935]\n",
            " [0.74136436 0.25863564]\n",
            " [0.01562792 0.9843721 ]\n",
            " [0.07662469 0.9233753 ]\n",
            " [0.06964821 0.9303518 ]\n",
            " [0.9579841  0.04201589]\n",
            " [0.13456303 0.865437  ]\n",
            " [0.63579684 0.36420316]\n",
            " [0.0216105  0.9783895 ]\n",
            " [0.8139464  0.18605357]]\n"
          ],
          "name": "stdout"
        }
      ]
    },
    {
      "metadata": {
        "id": "rfAw5UBx6hS9",
        "colab_type": "code",
        "colab": {}
      },
      "cell_type": "code",
      "source": [
        "import matplotlib.pyplot as plt\n",
        "\n",
        "# user defined function for plotting ROC curve\n",
        "\n",
        "def _roc_(y_data,probas): \n",
        "  \n",
        "  yvd = y_data\n",
        "  \n",
        "  fpr,tpr,threshold = metrics.roc_curve(yvd,probas[:,1])\n",
        "\n",
        "  auc = metrics.roc_auc_score(yvd,probas[:,1])\n",
        "\n",
        "  plt.plot(fpr,tpr, label = \"auc_ score \"+str(auc))\n",
        "\n",
        "  print(\"AUC score : \",(auc)*100)\n",
        "\n",
        "  plt.plot([0,1],[0,1],'k--')\n",
        "\n",
        "  plt.legend(loc=4)"
      ],
      "execution_count": 0,
      "outputs": []
    },
    {
      "metadata": {
        "id": "iSSEQ1iBBHXy",
        "colab_type": "code",
        "outputId": "d79a526f-a3ab-4aff-fa6e-c8a8ec611fcc",
        "colab": {
          "base_uri": "https://localhost:8080/",
          "height": 364
        }
      },
      "cell_type": "code",
      "source": [
        "_roc_(ytr,train_proba)"
      ],
      "execution_count": 0,
      "outputs": [
        {
          "output_type": "stream",
          "text": [
            "AUC score :  92.32607760849567\n"
          ],
          "name": "stdout"
        },
        {
          "output_type": "display_data",
          "data": {
            "image/png": "[encoded data removed]",
            "text/plain": [
              "<Figure size 576x396 with 1 Axes>"
            ]
          },
          "metadata": {
            "tags": []
          }
        }
      ]
    },
    {
      "metadata": {
        "id": "95wxTy3kDLl5",
        "colab_type": "code",
        "outputId": "a3ba885f-492b-4047-8331-0ce8015739a4",
        "colab": {
          "base_uri": "https://localhost:8080/",
          "height": 34
        }
      },
      "cell_type": "code",
      "source": [
        "type(best_estimator)"
      ],
      "execution_count": 0,
      "outputs": [
        {
          "output_type": "execute_result",
          "data": {
            "text/plain": [
              "sklearn.pipeline.Pipeline"
            ]
          },
          "metadata": {
            "tags": []
          },
          "execution_count": 64
        }
      ]
    },
    {
      "metadata": {
        "id": "C4zlwVILASB6",
        "colab_type": "code",
        "colab": {}
      },
      "cell_type": "code",
      "source": [
        "xg_model = best_estimator.named_steps['clf']  "
      ],
      "execution_count": 0,
      "outputs": []
    },
    {
      "metadata": {
        "id": "V3aIK4dOA7ZJ",
        "colab_type": "code",
        "outputId": "396c1e65-3d63-4412-c85b-50ff935ed9fd",
        "colab": {
          "base_uri": "https://localhost:8080/",
          "height": 102
        }
      },
      "cell_type": "code",
      "source": [
        "best_estimator.named_steps['clf'].feature_importances_ "
      ],
      "execution_count": 0,
      "outputs": [
        {
          "output_type": "execute_result",
          "data": {
            "text/plain": [
              "array([0.08850931, 0.05745342, 0.06677019, 0.02018633, 0.04503106,\n",
              "       0.02484472, 0.01552795, 0.00621118, 0.03416149, 0.06366459,\n",
              "       0.04503106, 0.07453416, 0.07608695, 0.12888199, 0.03416149,\n",
              "       0.02950311, 0.01708074, 0.02018633, 0.03571429, 0.0310559 ,\n",
              "       0.05279503, 0.0326087 ], dtype=float32)"
            ]
          },
          "metadata": {
            "tags": []
          },
          "execution_count": 81
        }
      ]
    },
    {
      "metadata": {
        "id": "AzdGiTf1DSAZ",
        "colab_type": "code",
        "colab": {}
      },
      "cell_type": "code",
      "source": [
        "dir(best_estimator.named_steps['clf'])  "
      ],
      "execution_count": 0,
      "outputs": []
    },
    {
      "metadata": {
        "id": "Y2J57Ejj-rO1",
        "colab_type": "code",
        "outputId": "96b5765a-c063-4c2a-e3ee-72ce1e585049",
        "colab": {
          "base_uri": "https://localhost:8080/",
          "height": 376
        }
      },
      "cell_type": "code",
      "source": [
        "# (best_estimator.feature_importance_)\n",
        "\n",
        "from xgboost import plot_importance\n",
        "\n",
        "plot_importance(xg_model)\n",
        "plt.show()\n",
        "\n"
      ],
      "execution_count": 0,
      "outputs": [
        {
          "output_type": "display_data",
          "data": {
            "image/png": "[encoded data removed]",
            "text/plain": [
              "<Figure size 576x396 with 1 Axes>"
            ]
          },
          "metadata": {
            "tags": []
          }
        }
      ]
    },
    {
      "metadata": {
        "id": "_UK_1FDL-rLQ",
        "colab_type": "code",
        "outputId": "a4582238-08e1-464e-9ba3-e18efcfe14bf",
        "colab": {
          "base_uri": "https://localhost:8080/",
          "height": 187
        }
      },
      "cell_type": "code",
      "source": [
        "#  Best model obtained is XGBoost classifier \n",
        "\n",
        "#  Using it to predict the results of Test data\n",
        "\n",
        "# Standardizing the Test data\n",
        "xtest = std.transform(test)    \n",
        "\n",
        "# Predicting test data label probabilities using best estimator\n",
        "predicted_label_probas = best_estimator.predict_proba(xtest)     \n",
        "\n",
        "print(predicted_label_probas[:10])"
      ],
      "execution_count": 0,
      "outputs": [
        {
          "output_type": "stream",
          "text": [
            "[[0.9757816  0.0242184 ]\n",
            " [0.66406703 0.33593297]\n",
            " [0.28828526 0.71171474]\n",
            " [0.8355262  0.16447376]\n",
            " [0.938016   0.06198398]\n",
            " [0.96204907 0.03795091]\n",
            " [0.44914645 0.55085355]\n",
            " [0.50285065 0.49714935]\n",
            " [0.16905314 0.83094686]\n",
            " [0.72784954 0.27215046]]\n"
          ],
          "name": "stdout"
        }
      ]
    },
    {
      "metadata": {
        "id": "PDO0FiVe-Ulf",
        "colab_type": "code",
        "outputId": "4eb046e8-5cad-46c5-bddb-ad59042e7841",
        "colab": {
          "base_uri": "https://localhost:8080/",
          "height": 34
        }
      },
      "cell_type": "code",
      "source": [
        "# Predicting test data labels using Best Estimator \n",
        "\n",
        "predicted_labels = best_estimator.predict(xtest)        \n",
        "print(predicted_labels[:10])\n",
        "\n"
      ],
      "execution_count": 0,
      "outputs": [
        {
          "output_type": "stream",
          "text": [
            "[0 0 1 0 0 0 1 0 1 0]\n"
          ],
          "name": "stdout"
        }
      ]
    },
    {
      "metadata": {
        "id": "BLuSf9lIscLD",
        "colab_type": "code",
        "colab": {}
      },
      "cell_type": "code",
      "source": [
        "res = pd.DataFrame(data = predicted_labels, columns=['Predictions']).to_csv('./drive/prediction.csv',index=False)"
      ],
      "execution_count": 0,
      "outputs": []
    },
    {
      "metadata": {
        "id": "_b7lnYx3tQEK",
        "colab_type": "code",
        "colab": {}
      },
      "cell_type": "code",
      "source": [
        "re = pd.read_csv('./drive/prediction.csv')"
      ],
      "execution_count": 0,
      "outputs": []
    },
    {
      "metadata": {
        "id": "_C7UKHqitocz",
        "colab_type": "code",
        "outputId": "4c061bb4-9b01-49f4-d1d0-6ee5455505b6",
        "colab": {
          "base_uri": "https://localhost:8080/",
          "height": 359
        }
      },
      "cell_type": "code",
      "source": [
        "# re.head(10)"
      ],
      "execution_count": 0,
      "outputs": [
        {
          "output_type": "execute_result",
          "data": {
            "text/html": [
              "<div>\n",
              "<style scoped>\n",
              "    .dataframe tbody tr th:only-of-type {\n",
              "        vertical-align: middle;\n",
              "    }\n",
              "\n",
              "    .dataframe tbody tr th {\n",
              "        vertical-align: top;\n",
              "    }\n",
              "\n",
              "    .dataframe thead th {\n",
              "        text-align: right;\n",
              "    }\n",
              "</style>\n",
              "<table border=\"1\" class=\"dataframe\">\n",
              "  <thead>\n",
              "    <tr style=\"text-align: right;\">\n",
              "      <th></th>\n",
              "      <th>Predictions</th>\n",
              "    </tr>\n",
              "  </thead>\n",
              "  <tbody>\n",
              "    <tr>\n",
              "      <th>0</th>\n",
              "      <td>0</td>\n",
              "    </tr>\n",
              "    <tr>\n",
              "      <th>1</th>\n",
              "      <td>0</td>\n",
              "    </tr>\n",
              "    <tr>\n",
              "      <th>2</th>\n",
              "      <td>1</td>\n",
              "    </tr>\n",
              "    <tr>\n",
              "      <th>3</th>\n",
              "      <td>0</td>\n",
              "    </tr>\n",
              "    <tr>\n",
              "      <th>4</th>\n",
              "      <td>0</td>\n",
              "    </tr>\n",
              "    <tr>\n",
              "      <th>5</th>\n",
              "      <td>0</td>\n",
              "    </tr>\n",
              "    <tr>\n",
              "      <th>6</th>\n",
              "      <td>1</td>\n",
              "    </tr>\n",
              "    <tr>\n",
              "      <th>7</th>\n",
              "      <td>0</td>\n",
              "    </tr>\n",
              "    <tr>\n",
              "      <th>8</th>\n",
              "      <td>1</td>\n",
              "    </tr>\n",
              "    <tr>\n",
              "      <th>9</th>\n",
              "      <td>0</td>\n",
              "    </tr>\n",
              "  </tbody>\n",
              "</table>\n",
              "</div>"
            ],
            "text/plain": [
              "   Predictions\n",
              "0            0\n",
              "1            0\n",
              "2            1\n",
              "3            0\n",
              "4            0\n",
              "5            0\n",
              "6            1\n",
              "7            0\n",
              "8            1\n",
              "9            0"
            ]
          },
          "metadata": {
            "tags": []
          },
          "execution_count": 100
        }
      ]
    },
    {
      "metadata": {
        "id": "k0-WeaU_upaj",
        "colab_type": "code",
        "outputId": "82eb26b3-d799-47e8-ce09-3fd8714cae0e",
        "colab": {
          "base_uri": "https://localhost:8080/",
          "height": 34
        }
      },
      "cell_type": "code",
      "source": [
        "!ls ./drive/*.csv -aril"
      ],
      "execution_count": 0,
      "outputs": [
        {
          "output_type": "stream",
          "text": [
            "7 -rw-r--r-- 1 root root 2338 Feb 10 09:47 ./drive/prediction.csv\n"
          ],
          "name": "stdout"
        }
      ]
    },
    {
      "metadata": {
        "id": "buWmpXwtz6TJ",
        "colab_type": "code",
        "colab": {}
      },
      "cell_type": "code",
      "source": [
        ""
      ],
      "execution_count": 0,
      "outputs": []
    }
  ]
}